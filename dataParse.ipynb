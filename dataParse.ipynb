{
 "cells": [
  {
   "cell_type": "code",
   "execution_count": 9,
   "metadata": {},
   "outputs": [],
   "source": [
    "import pandas as pd\n",
    "import os\n",
    "from bs4 import BeautifulSoup\n",
    "import codecs"
   ]
  },
  {
   "cell_type": "code",
   "execution_count": 24,
   "metadata": {},
   "outputs": [
    {
     "name": "stdout",
     "output_type": "stream",
     "text": [
      "['other', 'department', 'student', 'course', 'project', 'staff', 'faculty']\n",
      "other\n"
     ]
    },
    {
     "name": "stderr",
     "output_type": "stream",
     "text": [
      "/tmp/ipykernel_7174/753863355.py:14: MarkupResemblesLocatorWarning: The input looks more like a filename than markup. You may want to open this file and pass the filehandle into Beautiful Soup.\n",
      "  soup = BeautifulSoup(content, 'html.parser')\n"
     ]
    },
    {
     "name": "stdout",
     "output_type": "stream",
     "text": [
      "3011\n",
      "department\n",
      "145\n",
      "student\n",
      "1312\n",
      "course\n",
      "744\n",
      "project\n",
      "403\n",
      "staff\n",
      "109\n",
      "faculty\n",
      "899\n"
     ]
    }
   ],
   "source": [
    "base = 'dataset_splitted/splits/train/'\n",
    "dirs = os.listdir(base)\n",
    "print(dirs)\n",
    "df = pd.DataFrame({'id':[], 'text':[], 'label':[]})\n",
    "for dir in dirs:\n",
    "    print(dir)\n",
    "    dir_path = base + dir\n",
    "    cont = 0\n",
    "    for file in os.listdir(dir_path):\n",
    "        cont += 1\n",
    "        file_path = dir_path + '/' + file\n",
    "        with codecs.open(file_path, 'r', encoding='ISO-8859-1') as f:\n",
    "            content = f.read()\n",
    "        soup = BeautifulSoup(content, 'html.parser')\n",
    "        new_row = pd.DataFrame({'id':[file], 'text':[soup.text], 'label':[dir]})\n",
    "        df = pd.concat([df,new_row])\n",
    "    if cont == 1: break\n",
    "    print(cont)"
   ]
  },
  {
   "cell_type": "code",
   "execution_count": 22,
   "metadata": {},
   "outputs": [
    {
     "data": {
      "text/plain": [
       "6623"
      ]
     },
     "execution_count": 22,
     "metadata": {},
     "output_type": "execute_result"
    }
   ],
   "source": [
    "len(df['text'].unique())"
   ]
  }
 ],
 "metadata": {
  "kernelspec": {
   "display_name": "base",
   "language": "python",
   "name": "python3"
  },
  "language_info": {
   "codemirror_mode": {
    "name": "ipython",
    "version": 3
   },
   "file_extension": ".py",
   "mimetype": "text/x-python",
   "name": "python",
   "nbconvert_exporter": "python",
   "pygments_lexer": "ipython3",
   "version": "3.11.4"
  }
 },
 "nbformat": 4,
 "nbformat_minor": 2
}
