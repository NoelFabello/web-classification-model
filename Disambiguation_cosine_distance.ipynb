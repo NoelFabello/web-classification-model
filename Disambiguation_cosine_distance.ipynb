{
 "cells": [
  {
   "cell_type": "code",
   "execution_count": 1,
   "metadata": {},
   "outputs": [
    {
     "name": "stdout",
     "output_type": "stream",
     "text": [
      "any of several large cats typically able to roar and living in the wild\n",
      "a member of the genus Canis (probably descended from the common wolf) that has been domesticated by man since prehistoric times; occurs in many breeds\n"
     ]
    }
   ],
   "source": [
    "from nltk.corpus import wordnet as wn\n",
    "from nltk import pos_tag, word_tokenize\n",
    "from sklearn.feature_extraction.text import CountVectorizer\n",
    "from sklearn.metrics.pairwise import cosine_similarity\n",
    "\n",
    "def disambiguate_nouns(word1, word2):\n",
    "    # Obtener los synsets (conjunto de sinónimos) para cada palabra\n",
    "    synsets_word1 = wn.synsets(word1, pos=wn.NOUN)\n",
    "    synsets_word2 = wn.synsets(word2, pos=wn.NOUN)\n",
    "    # Calcular la similitud de coseno entre los vectores de frecuencia de las definiciones de los synsets\n",
    "    vectorizer = CountVectorizer()\n",
    "    synset_definitions = [synset.definition() + ' ' + ' '.join([word.name() for word in synset.hypernym_paths()[0]])  for synset in synsets_word1]\n",
    "    synset_definitions = synset_definitions + [synset.definition() + ' ' + ' '.join([word.name() for word in synset.hypernym_paths()[0]])  for synset in synsets_word2]\n",
    "    vector_space = vectorizer.fit_transform(synset_definitions)\n",
    "    similarity_matrix = cosine_similarity(vector_space)\n",
    "    # Encontrar la definición más similar para cada palabra\n",
    "    max_value = -1\n",
    "    row_index = -1\n",
    "    col_index = -1\n",
    "    for row in range(len(synsets_word1)):\n",
    "        for col in range(len(synsets_word1), len(synset_definitions)):\n",
    "            if col != row:\n",
    "                if similarity_matrix[row,col] > max_value:\n",
    "                    max_value = similarity_matrix[row,col]\n",
    "                    row_index = row\n",
    "                    col_index = col\n",
    "\n",
    "    # Devolver el synset con la definición más similar para cada palabra\n",
    "    best_synset_word1 = synsets_word1[row_index]\n",
    "    best_synset_word2 = synsets_word2[col_index-len(synsets_word1)]\n",
    "\n",
    "    return best_synset_word1, best_synset_word2\n",
    "\n",
    "# Ejemplo de uso\n",
    "word1 = \"cat\"\n",
    "word2 = \"dog\"\n",
    "best_synset_word1, best_synset_word2 = disambiguate_nouns(word1, word2)\n",
    "print(best_synset_word1.definition())\n",
    "print(best_synset_word2.definition())\n"
   ]
  }
 ],
 "metadata": {
  "kernelspec": {
   "display_name": "base",
   "language": "python",
   "name": "python3"
  },
  "language_info": {
   "codemirror_mode": {
    "name": "ipython",
    "version": 3
   },
   "file_extension": ".py",
   "mimetype": "text/x-python",
   "name": "python",
   "nbconvert_exporter": "python",
   "pygments_lexer": "ipython3",
   "version": "3.11.4"
  }
 },
 "nbformat": 4,
 "nbformat_minor": 2
}
