{
 "cells": [
  {
   "cell_type": "markdown",
   "metadata": {},
   "source": [
    "## Desambiguación basada en definiciones\n",
    "Esta solución nace de la suposición de que en la definición de una palabra suelen aparecer palabras relacionadas, y que en su jerarquía de hiperónimos hay palabras que aparecen en las definiciones de palabras relacionadas. A continuación un ejemplo."
   ]
  },
  {
   "cell_type": "code",
   "execution_count": 2,
   "metadata": {},
   "outputs": [],
   "source": [
    "from nltk.corpus import wordnet as wn\n",
    "from nltk import pos_tag, word_tokenize\n",
    "from sklearn.feature_extraction.text import CountVectorizer\n",
    "from sklearn.metrics.pairwise import cosine_similarity"
   ]
  },
  {
   "cell_type": "markdown",
   "metadata": {},
   "source": [
    "Si se observa la palabra `gato` (tomando la acepción de gato doméstico), en su definición aparecen palabras como doméstico, felino o mamífero, y en su ruta de hiperónimos aparecen palabras como animal, vertebrado, carnívoro, etc."
   ]
  },
  {
   "cell_type": "code",
   "execution_count": 19,
   "metadata": {},
   "outputs": [
    {
     "name": "stdout",
     "output_type": "stream",
     "text": [
      "feline mammal usually having thick soft fur and no ability to roar: domestic cats; wildcats\n",
      "[Synset('entity.n.01'), Synset('physical_entity.n.01'), Synset('object.n.01'), Synset('whole.n.02'), Synset('living_thing.n.01'), Synset('organism.n.01'), Synset('animal.n.01'), Synset('chordate.n.01'), Synset('vertebrate.n.01'), Synset('mammal.n.01'), Synset('placental.n.01'), Synset('carnivore.n.01'), Synset('feline.n.01'), Synset('cat.n.01')]\n"
     ]
    }
   ],
   "source": [
    "palabra = \"cat\"\n",
    "acepciones = wn.synsets(palabra)\n",
    "print(acepciones[0].definition())\n",
    "print(acepciones[0].hypernym_paths()[0])"
   ]
  },
  {
   "cell_type": "markdown",
   "metadata": {},
   "source": [
    "Tomando otro sustantivo relacionado como puede ser `mascota` y observando sus definiciones se puede ver que la definición que más palabras relacionadas tiene con la acepción de `gato` y la ruta de hiperónimos tomada es la primera, donde aparece \"domesticated\" y \"animal\", por lo que sería seleccionada por el algoritmo"
   ]
  },
  {
   "cell_type": "code",
   "execution_count": 20,
   "metadata": {},
   "outputs": [
    {
     "name": "stdout",
     "output_type": "stream",
     "text": [
      "pet.n.01   a domesticated animal kept for companionship or amusement\n",
      "darling.n.01   a special loved one\n",
      "pet.n.03   a fit of petulance or sulkiness (especially at what is felt to be a slight)\n",
      "positron_emission_tomography.n.01   using a computerized radiographic technique to examine the metabolic activity in various tissues (especially in the brain)\n"
     ]
    }
   ],
   "source": [
    "palabra = \"pet\"\n",
    "acepciones = wn.synsets(palabra, pos=wn.NOUN)\n",
    "for i in acepciones:\n",
    "    print(i.name(), \" \",i.definition())"
   ]
  },
  {
   "cell_type": "markdown",
   "metadata": {},
   "source": [
    "### Explicación del algoritmo\n",
    "El algoritmo recibe 2 palabras, y su objetivo es obtener las definiciones que estén más relacionadas. Para esto concatena las definiciones de cada palabra con su ruta de hiperónimos para tener la mayor cantidad de palabras relacionadas a al significado.\n",
    "\n",
    "A continuación se realiza una vectorización y el cálculo de distancia coseno sobre la matriz resultante. De esta forma el resultado es una matriz donde hay tantas filas como acepciones tenga la primera palabra, y tantas columnas como acepciones tenga la segunda palabra. Los valores de esta matriz son la distancia coseno entre las acepciones.\n",
    "\n",
    "De esta forma simplemente recorriendo la matriz se puede obtener las dos acepciones con la distancia coseno más baja, por lo que serán las más similares.\n",
    "\n",
    "Este algoritmo fue descartado ya que en las pruebas la desambiguación basada en la métrica JNC dio mejores resultados."
   ]
  },
  {
   "cell_type": "code",
   "execution_count": 1,
   "metadata": {},
   "outputs": [
    {
     "name": "stdout",
     "output_type": "stream",
     "text": [
      "any of several large cats typically able to roar and living in the wild\n",
      "a member of the genus Canis (probably descended from the common wolf) that has been domesticated by man since prehistoric times; occurs in many breeds\n"
     ]
    }
   ],
   "source": [
    "def disambiguate_nouns(word1, word2):\n",
    "    \n",
    "    synsets_word1 = wn.synsets(word1, pos=wn.NOUN)\n",
    "    synsets_word2 = wn.synsets(word2, pos=wn.NOUN)\n",
    "    \n",
    "    vectorizer = CountVectorizer()\n",
    "    synset_definitions = [synset.definition() + ' ' + ' '.join([word.name() for word in synset.hypernym_paths()[0]])  for synset in synsets_word1]\n",
    "    synset_definitions = synset_definitions + [synset.definition() + ' ' + ' '.join([word.name() for word in synset.hypernym_paths()[0]])  for synset in synsets_word2]\n",
    "    vector_space = vectorizer.fit_transform(synset_definitions)\n",
    "    similarity_matrix = cosine_similarity(vector_space)\n",
    "    \n",
    "    max_value = -1\n",
    "    row_index = -1\n",
    "    col_index = -1\n",
    "    for row in range(len(synsets_word1)):\n",
    "        for col in range(len(synsets_word1), len(synset_definitions)):\n",
    "            if col != row:\n",
    "                if similarity_matrix[row,col] > max_value:\n",
    "                    max_value = similarity_matrix[row,col]\n",
    "                    row_index = row\n",
    "                    col_index = col\n",
    "\n",
    "    \n",
    "    best_synset_word1 = synsets_word1[row_index]\n",
    "    best_synset_word2 = synsets_word2[col_index-len(synsets_word1)]\n",
    "\n",
    "    return best_synset_word1, best_synset_word2\n",
    "\n",
    "# Ejemplo de uso\n",
    "word1 = \"cat\"\n",
    "word2 = \"dog\"\n",
    "best_synset_word1, best_synset_word2 = disambiguate_nouns(word1, word2)\n",
    "print(best_synset_word1.definition())\n",
    "print(best_synset_word2.definition())\n"
   ]
  }
 ],
 "metadata": {
  "kernelspec": {
   "display_name": "base",
   "language": "python",
   "name": "python3"
  },
  "language_info": {
   "codemirror_mode": {
    "name": "ipython",
    "version": 3
   },
   "file_extension": ".py",
   "mimetype": "text/x-python",
   "name": "python",
   "nbconvert_exporter": "python",
   "pygments_lexer": "ipython3",
   "version": "3.11.5"
  }
 },
 "nbformat": 4,
 "nbformat_minor": 2
}
