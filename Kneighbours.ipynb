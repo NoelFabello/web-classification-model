{
 "cells": [
  {
   "cell_type": "code",
   "execution_count": 17,
   "metadata": {},
   "outputs": [],
   "source": [
    "from matplotlib import pyplot as plt\n",
    "import numpy as np\n",
    "import pandas as pd\n",
    "from sklearn.ensemble import RandomForestClassifier\n",
    "from nltk.corpus import stopwords\n",
    "from sklearn.model_selection import train_test_split, RandomizedSearchCV\n",
    "from sklearn.metrics import ConfusionMatrixDisplay, classification_report\n",
    "from sklearn.feature_extraction.text import TfidfVectorizer\n",
    "from sklearn.model_selection import GridSearchCV"
   ]
  },
  {
   "cell_type": "code",
   "execution_count": 30,
   "metadata": {},
   "outputs": [],
   "source": [
    "data = pd.read_json('data.json')\n",
    "stop_words= stopwords.words('english')\n",
    "vectorizer = TfidfVectorizer(stop_words=stop_words, token_pattern=r'\\b[a-zA-ZÁÉÍÓÚáéíóú]{4,}\\b')\n",
    "tfidf = vectorizer.fit_transform(data['text'])\n",
    "test_data = pd.read_json('dataTest.json')"
   ]
  },
  {
   "cell_type": "code",
   "execution_count": 15,
   "metadata": {},
   "outputs": [
    {
     "name": "stdout",
     "output_type": "stream",
     "text": [
      "              precision    recall  f1-score   support\n",
      "\n",
      "      course       0.94      0.63      0.76       167\n",
      "  department       1.00      0.42      0.59        26\n",
      "     faculty       0.86      0.75      0.80       184\n",
      "       other       0.71      0.95      0.81       590\n",
      "     project       1.00      0.06      0.12        94\n",
      "       staff       0.50      0.05      0.08        22\n",
      "     student       0.76      0.75      0.75       242\n",
      "\n",
      "    accuracy                           0.76      1325\n",
      "   macro avg       0.82      0.52      0.56      1325\n",
      "weighted avg       0.79      0.76      0.73      1325\n",
      "\n"
     ]
    }
   ],
   "source": [
    "X_train, X_test, y_train, y_test = train_test_split(tfidf, data['label'], test_size=0.2, random_state=42)\n",
    "model = RandomForestClassifier(random_state=42)\n",
    "model.fit(X_train, y_train)\n",
    "\n",
    "y_pred = model.predict(X_test)\n",
    "\n",
    "report = classification_report(y_test, y_pred, labels=data['label'].unique())\n",
    "print(report)"
   ]
  },
  {
   "cell_type": "code",
   "execution_count": 31,
   "metadata": {},
   "outputs": [],
   "source": [
    "model = RandomForestClassifier(random_state=42)\n",
    "model.fit(tfidf, data['label'])\n",
    "test_tfidf = vectorizer.transform(test_data['text'])\n",
    "y_pred = model.predict(test_tfidf)"
   ]
  },
  {
   "cell_type": "code",
   "execution_count": 32,
   "metadata": {},
   "outputs": [
    {
     "data": {
      "text/html": [
       "<div>\n",
       "<style scoped>\n",
       "    .dataframe tbody tr th:only-of-type {\n",
       "        vertical-align: middle;\n",
       "    }\n",
       "\n",
       "    .dataframe tbody tr th {\n",
       "        vertical-align: top;\n",
       "    }\n",
       "\n",
       "    .dataframe thead th {\n",
       "        text-align: right;\n",
       "    }\n",
       "</style>\n",
       "<table border=\"1\" class=\"dataframe\">\n",
       "  <thead>\n",
       "    <tr style=\"text-align: right;\">\n",
       "      <th></th>\n",
       "      <th>Text</th>\n",
       "      <th>Predicted</th>\n",
       "    </tr>\n",
       "  </thead>\n",
       "  <tbody>\n",
       "    <tr>\n",
       "      <th>0</th>\n",
       "      <td>Date: Thu, 21 Nov 1996 23:01:37 GMT\\nServer: N...</td>\n",
       "      <td>other</td>\n",
       "    </tr>\n",
       "    <tr>\n",
       "      <th>1</th>\n",
       "      <td>Date: Tue, 14 Jan 1997 21:38:58 GMT\\nServer: N...</td>\n",
       "      <td>other</td>\n",
       "    </tr>\n",
       "    <tr>\n",
       "      <th>2</th>\n",
       "      <td>MIME-Version: 1.0\\nServer: CERN/3.0\\nDate: Mon...</td>\n",
       "      <td>other</td>\n",
       "    </tr>\n",
       "    <tr>\n",
       "      <th>3</th>\n",
       "      <td>Date: Tue, 05 Nov 1996 00:27:26 GMT\\nServer: N...</td>\n",
       "      <td>other</td>\n",
       "    </tr>\n",
       "    <tr>\n",
       "      <th>4</th>\n",
       "      <td>Date: Thu, 21 Nov 1996 22:54:33 GMT\\nServer: N...</td>\n",
       "      <td>student</td>\n",
       "    </tr>\n",
       "    <tr>\n",
       "      <th>...</th>\n",
       "      <td>...</td>\n",
       "      <td>...</td>\n",
       "    </tr>\n",
       "    <tr>\n",
       "      <th>1654</th>\n",
       "      <td>Date: Mon, 11 Nov 1996 17:57:46 GMT\\nServer: N...</td>\n",
       "      <td>other</td>\n",
       "    </tr>\n",
       "    <tr>\n",
       "      <th>1655</th>\n",
       "      <td>MIME-Version: 1.0\\nServer: CERN/3.0\\nDate: Sun...</td>\n",
       "      <td>other</td>\n",
       "    </tr>\n",
       "    <tr>\n",
       "      <th>1656</th>\n",
       "      <td>MIME-Version: 1.0\\nServer: CERN/3.0\\nDate: Mon...</td>\n",
       "      <td>other</td>\n",
       "    </tr>\n",
       "    <tr>\n",
       "      <th>1657</th>\n",
       "      <td>MIME-Version: 1.0\\nServer: CERN/3.0\\nDate: Tue...</td>\n",
       "      <td>faculty</td>\n",
       "    </tr>\n",
       "    <tr>\n",
       "      <th>1658</th>\n",
       "      <td>Date: Fri, 13 Dec 1996 14:49:15 GMT\\nServer: N...</td>\n",
       "      <td>other</td>\n",
       "    </tr>\n",
       "  </tbody>\n",
       "</table>\n",
       "<p>1659 rows × 2 columns</p>\n",
       "</div>"
      ],
      "text/plain": [
       "                                                   Text Predicted\n",
       "0     Date: Thu, 21 Nov 1996 23:01:37 GMT\\nServer: N...     other\n",
       "1     Date: Tue, 14 Jan 1997 21:38:58 GMT\\nServer: N...     other\n",
       "2     MIME-Version: 1.0\\nServer: CERN/3.0\\nDate: Mon...     other\n",
       "3     Date: Tue, 05 Nov 1996 00:27:26 GMT\\nServer: N...     other\n",
       "4     Date: Thu, 21 Nov 1996 22:54:33 GMT\\nServer: N...   student\n",
       "...                                                 ...       ...\n",
       "1654  Date: Mon, 11 Nov 1996 17:57:46 GMT\\nServer: N...     other\n",
       "1655  MIME-Version: 1.0\\nServer: CERN/3.0\\nDate: Sun...     other\n",
       "1656  MIME-Version: 1.0\\nServer: CERN/3.0\\nDate: Mon...     other\n",
       "1657  MIME-Version: 1.0\\nServer: CERN/3.0\\nDate: Tue...   faculty\n",
       "1658  Date: Fri, 13 Dec 1996 14:49:15 GMT\\nServer: N...     other\n",
       "\n",
       "[1659 rows x 2 columns]"
      ]
     },
     "execution_count": 32,
     "metadata": {},
     "output_type": "execute_result"
    }
   ],
   "source": [
    "result_df = pd.DataFrame({'Text': test_data.text, 'Predicted': y_pred})\n",
    "result_df"
   ]
  }
 ],
 "metadata": {
  "kernelspec": {
   "display_name": "base",
   "language": "python",
   "name": "python3"
  },
  "language_info": {
   "codemirror_mode": {
    "name": "ipython",
    "version": 3
   },
   "file_extension": ".py",
   "mimetype": "text/x-python",
   "name": "python",
   "nbconvert_exporter": "python",
   "pygments_lexer": "ipython3",
   "version": "3.11.4"
  }
 },
 "nbformat": 4,
 "nbformat_minor": 2
}
