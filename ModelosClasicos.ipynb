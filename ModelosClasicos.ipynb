{
 "cells": [
  {
   "cell_type": "markdown",
   "metadata": {},
   "source": [
    "### Entrenamiento de modelos clásicos\n",
    "Para el entrenamiento de todos los modelos clásicos se realiza el mismo procesamiento.\n",
    "- Primero se vectorizan los textos para obtener la matriz documento-término tfidf con la que se entrenan los modelos.\n",
    "- Luego se realiza un GridSearch para optimizar los parámetros del modelo.\n",
    "- Por último se entrena el modelo utilizando el conjunto completo de datos.\n",
    "- Con el modelo ya creado, se realizan las predicciones sobre el conjunto de test.\n",
    "\n",
    "#### Modelos y archivos utilizados\n",
    "Los modelos clásicos seleccionados han sido el RandomForest y el SVM. Esta decisión se debe a que se han probado otros modelos como el DecisionTree, el KNN y el Naive-Bayes y han dado peores resultados.\n",
    "\n",
    "Para todos los modelos se ha realizado el entrenamiento con los archivos extendidos, primero sin aplicar la desambiguación y luego aplicándola."
   ]
  },
  {
   "cell_type": "code",
   "execution_count": 7,
   "metadata": {},
   "outputs": [],
   "source": [
    "from matplotlib import pyplot as plt\n",
    "import pandas as pd\n",
    "from sklearn.svm import SVC\n",
    "from sklearn.ensemble import RandomForestClassifier\n",
    "from nltk.corpus import stopwords\n",
    "from sklearn.model_selection import train_test_split\n",
    "from sklearn.metrics import classification_report\n",
    "from sklearn.feature_extraction.text import TfidfVectorizer\n",
    "from sklearn.model_selection import GridSearchCV"
   ]
  },
  {
   "cell_type": "markdown",
   "metadata": {},
   "source": [
    "## Entrenamiento de SVM\n",
    "### Sin la desambiguación de significados"
   ]
  },
  {
   "cell_type": "code",
   "execution_count": 8,
   "metadata": {},
   "outputs": [],
   "source": [
    "data = pd.read_json('dataTrain.json')\n",
    "data.columns = ['id', 'text','label']\n",
    "stop_words= stopwords.words('english')\n",
    "vectorizer = TfidfVectorizer(stop_words=stop_words)\n",
    "tfidf = vectorizer.fit_transform(data['text'])\n",
    "test_data = pd.read_json('dataTest.json')"
   ]
  },
  {
   "cell_type": "code",
   "execution_count": 9,
   "metadata": {},
   "outputs": [
    {
     "name": "stdout",
     "output_type": "stream",
     "text": [
      "{'C': 10, 'class_weight': 'balanced', 'gamma': 0.1, 'kernel': 'rbf'}\n"
     ]
    }
   ],
   "source": [
    "X_train = data['text']\n",
    "y_train = data['label']\n",
    "cfl = SVC()\n",
    "params = {\n",
    "    'C' : [0.1, 1, 10],\n",
    "    'kernel' : ['linear', 'rbf'],\n",
    "    'gamma': [0.1, 0.01, 0.001],\n",
    "    'class_weight': ['balanced']\n",
    "}\n",
    "\n",
    "model = gs_knn = GridSearchCV(cfl,\n",
    "                      param_grid=params,\n",
    "                      scoring='f1_weighted',\n",
    "                      cv=10)\n",
    "model.fit(tfidf, y_train)\n",
    "best_params = model.best_params_\n",
    "best_model = model.best_estimator_\n",
    "print(best_params)"
   ]
  },
  {
   "cell_type": "code",
   "execution_count": 10,
   "metadata": {},
   "outputs": [
    {
     "name": "stdout",
     "output_type": "stream",
     "text": [
      "              precision    recall  f1-score   support\n",
      "\n",
      "      course       0.80      0.80      0.80       167\n",
      "  department       0.80      0.62      0.70        26\n",
      "     faculty       0.72      0.77      0.74       184\n",
      "       other       0.82      0.80      0.81       590\n",
      "     project       0.57      0.55      0.56        94\n",
      "       staff       0.43      0.14      0.21        22\n",
      "     student       0.75      0.83      0.79       242\n",
      "\n",
      "    accuracy                           0.77      1325\n",
      "   macro avg       0.70      0.64      0.66      1325\n",
      "weighted avg       0.77      0.77      0.77      1325\n",
      "\n"
     ]
    }
   ],
   "source": [
    "X_train, X_test, y_train, y_test = train_test_split(tfidf, data['label'], test_size=0.2, random_state=42)\n",
    "model = SVC(**best_params, random_state=42)\n",
    "model.fit(X_train, y_train)\n",
    "\n",
    "y_pred = model.predict(X_test)\n",
    "\n",
    "report = classification_report(y_test, y_pred, labels=data['label'].unique())\n",
    "print(report)"
   ]
  },
  {
   "cell_type": "code",
   "execution_count": 11,
   "metadata": {},
   "outputs": [],
   "source": [
    "model = SVC(**best_params, random_state=42)\n",
    "model.fit(tfidf, data['label'])\n",
    "test_tfidf = vectorizer.transform(test_data['text'])\n",
    "y_pred = model.predict(test_tfidf)"
   ]
  },
  {
   "cell_type": "code",
   "execution_count": 12,
   "metadata": {},
   "outputs": [
    {
     "data": {
      "text/html": [
       "<div>\n",
       "<style scoped>\n",
       "    .dataframe tbody tr th:only-of-type {\n",
       "        vertical-align: middle;\n",
       "    }\n",
       "\n",
       "    .dataframe tbody tr th {\n",
       "        vertical-align: top;\n",
       "    }\n",
       "\n",
       "    .dataframe thead th {\n",
       "        text-align: right;\n",
       "    }\n",
       "</style>\n",
       "<table border=\"1\" class=\"dataframe\">\n",
       "  <thead>\n",
       "    <tr style=\"text-align: right;\">\n",
       "      <th></th>\n",
       "      <th>id</th>\n",
       "      <th>Predicted</th>\n",
       "    </tr>\n",
       "  </thead>\n",
       "  <tbody>\n",
       "    <tr>\n",
       "      <th>0</th>\n",
       "      <td>aaclkul</td>\n",
       "      <td>student</td>\n",
       "    </tr>\n",
       "    <tr>\n",
       "      <th>1</th>\n",
       "      <td>aagelci</td>\n",
       "      <td>project</td>\n",
       "    </tr>\n",
       "    <tr>\n",
       "      <th>2</th>\n",
       "      <td>aangjmn</td>\n",
       "      <td>other</td>\n",
       "    </tr>\n",
       "    <tr>\n",
       "      <th>3</th>\n",
       "      <td>aawnpc</td>\n",
       "      <td>other</td>\n",
       "    </tr>\n",
       "    <tr>\n",
       "      <th>4</th>\n",
       "      <td>abdjgiz</td>\n",
       "      <td>student</td>\n",
       "    </tr>\n",
       "    <tr>\n",
       "      <th>...</th>\n",
       "      <td>...</td>\n",
       "      <td>...</td>\n",
       "    </tr>\n",
       "    <tr>\n",
       "      <th>1654</th>\n",
       "      <td>zxmmn</td>\n",
       "      <td>other</td>\n",
       "    </tr>\n",
       "    <tr>\n",
       "      <th>1655</th>\n",
       "      <td>zxwkru</td>\n",
       "      <td>other</td>\n",
       "    </tr>\n",
       "    <tr>\n",
       "      <th>1656</th>\n",
       "      <td>zybimtt</td>\n",
       "      <td>other</td>\n",
       "    </tr>\n",
       "    <tr>\n",
       "      <th>1657</th>\n",
       "      <td>zypnixf</td>\n",
       "      <td>faculty</td>\n",
       "    </tr>\n",
       "    <tr>\n",
       "      <th>1658</th>\n",
       "      <td>zzszho</td>\n",
       "      <td>student</td>\n",
       "    </tr>\n",
       "  </tbody>\n",
       "</table>\n",
       "<p>1659 rows × 2 columns</p>\n",
       "</div>"
      ],
      "text/plain": [
       "           id Predicted\n",
       "0     aaclkul   student\n",
       "1     aagelci   project\n",
       "2     aangjmn     other\n",
       "3      aawnpc     other\n",
       "4     abdjgiz   student\n",
       "...       ...       ...\n",
       "1654    zxmmn     other\n",
       "1655   zxwkru     other\n",
       "1656  zybimtt     other\n",
       "1657  zypnixf   faculty\n",
       "1658   zzszho   student\n",
       "\n",
       "[1659 rows x 2 columns]"
      ]
     },
     "execution_count": 12,
     "metadata": {},
     "output_type": "execute_result"
    }
   ],
   "source": [
    "result_df = pd.DataFrame({'id': test_data.id, 'Predicted': y_pred})\n",
    "result_df"
   ]
  },
  {
   "cell_type": "code",
   "execution_count": 13,
   "metadata": {},
   "outputs": [],
   "source": [
    "result_df.to_csv('ENXEBRE_SVM_NoDisambiguated.csv')"
   ]
  },
  {
   "cell_type": "markdown",
   "metadata": {},
   "source": [
    "## Entrenamiento de SVM\n",
    "### Con la desambiguación de significados"
   ]
  },
  {
   "cell_type": "code",
   "execution_count": 41,
   "metadata": {},
   "outputs": [],
   "source": [
    "data = pd.read_json('disambiguated_dataTrain.json')\n",
    "data.columns = ['id', 'label','text']\n",
    "stop_words= stopwords.words('english')\n",
    "vectorizer = TfidfVectorizer(stop_words=stop_words)\n",
    "tfidf = vectorizer.fit_transform(data['text'])\n",
    "test_data = pd.read_json('disambiguated_dataTest.json')"
   ]
  },
  {
   "cell_type": "code",
   "execution_count": 15,
   "metadata": {},
   "outputs": [
    {
     "name": "stdout",
     "output_type": "stream",
     "text": [
      "{'C': 10, 'class_weight': 'balanced', 'gamma': 0.1, 'kernel': 'rbf'}\n"
     ]
    }
   ],
   "source": [
    "X_train = data['text']\n",
    "y_train = data['label']\n",
    "cfl = SVC()\n",
    "params = {\n",
    "    'C' : [0.1, 1, 10],\n",
    "    'kernel' : ['linear', 'rbf'],\n",
    "    'gamma': [0.1, 0.01, 0.001],\n",
    "    'class_weight': ['balanced']\n",
    "}\n",
    "\n",
    "model = gs_knn = GridSearchCV(cfl,\n",
    "                      param_grid=params,\n",
    "                      scoring='f1_weighted',\n",
    "                      cv=10)\n",
    "model.fit(tfidf, y_train)\n",
    "best_params = model.best_params_\n",
    "best_model = model.best_estimator_\n",
    "print(best_params)"
   ]
  },
  {
   "cell_type": "code",
   "execution_count": 16,
   "metadata": {},
   "outputs": [
    {
     "name": "stdout",
     "output_type": "stream",
     "text": [
      "              precision    recall  f1-score   support\n",
      "\n",
      "      course       0.79      0.83      0.81       167\n",
      "  department       0.75      0.58      0.65        26\n",
      "     faculty       0.76      0.77      0.76       184\n",
      "       other       0.81      0.80      0.80       590\n",
      "     project       0.58      0.51      0.54        94\n",
      "       staff       0.33      0.05      0.08        22\n",
      "     student       0.73      0.82      0.77       242\n",
      "\n",
      "    accuracy                           0.77      1325\n",
      "   macro avg       0.68      0.62      0.63      1325\n",
      "weighted avg       0.76      0.77      0.76      1325\n",
      "\n"
     ]
    }
   ],
   "source": [
    "X_train, X_test, y_train, y_test = train_test_split(tfidf, data['label'], test_size=0.2, random_state=42)\n",
    "model = SVC(**best_params, random_state=42)\n",
    "model.fit(X_train, y_train)\n",
    "\n",
    "y_pred = model.predict(X_test)\n",
    "\n",
    "report = classification_report(y_test, y_pred, labels=data['label'].unique())\n",
    "print(report)"
   ]
  },
  {
   "cell_type": "code",
   "execution_count": 17,
   "metadata": {},
   "outputs": [],
   "source": [
    "model = SVC(**best_params, random_state=42)\n",
    "model.fit(tfidf, data['label'])\n",
    "test_tfidf = vectorizer.transform(test_data['text'])\n",
    "y_pred = model.predict(test_tfidf)"
   ]
  },
  {
   "cell_type": "code",
   "execution_count": 18,
   "metadata": {},
   "outputs": [
    {
     "data": {
      "text/html": [
       "<div>\n",
       "<style scoped>\n",
       "    .dataframe tbody tr th:only-of-type {\n",
       "        vertical-align: middle;\n",
       "    }\n",
       "\n",
       "    .dataframe tbody tr th {\n",
       "        vertical-align: top;\n",
       "    }\n",
       "\n",
       "    .dataframe thead th {\n",
       "        text-align: right;\n",
       "    }\n",
       "</style>\n",
       "<table border=\"1\" class=\"dataframe\">\n",
       "  <thead>\n",
       "    <tr style=\"text-align: right;\">\n",
       "      <th></th>\n",
       "      <th>id</th>\n",
       "      <th>Predicted</th>\n",
       "    </tr>\n",
       "  </thead>\n",
       "  <tbody>\n",
       "    <tr>\n",
       "      <th>0</th>\n",
       "      <td>aaclkul</td>\n",
       "      <td>student</td>\n",
       "    </tr>\n",
       "    <tr>\n",
       "      <th>1</th>\n",
       "      <td>aagelci</td>\n",
       "      <td>project</td>\n",
       "    </tr>\n",
       "    <tr>\n",
       "      <th>2</th>\n",
       "      <td>aangjmn</td>\n",
       "      <td>other</td>\n",
       "    </tr>\n",
       "    <tr>\n",
       "      <th>3</th>\n",
       "      <td>aawnpc</td>\n",
       "      <td>other</td>\n",
       "    </tr>\n",
       "    <tr>\n",
       "      <th>4</th>\n",
       "      <td>abdjgiz</td>\n",
       "      <td>student</td>\n",
       "    </tr>\n",
       "    <tr>\n",
       "      <th>...</th>\n",
       "      <td>...</td>\n",
       "      <td>...</td>\n",
       "    </tr>\n",
       "    <tr>\n",
       "      <th>1654</th>\n",
       "      <td>zxmmn</td>\n",
       "      <td>other</td>\n",
       "    </tr>\n",
       "    <tr>\n",
       "      <th>1655</th>\n",
       "      <td>zxwkru</td>\n",
       "      <td>other</td>\n",
       "    </tr>\n",
       "    <tr>\n",
       "      <th>1656</th>\n",
       "      <td>zybimtt</td>\n",
       "      <td>other</td>\n",
       "    </tr>\n",
       "    <tr>\n",
       "      <th>1657</th>\n",
       "      <td>zypnixf</td>\n",
       "      <td>faculty</td>\n",
       "    </tr>\n",
       "    <tr>\n",
       "      <th>1658</th>\n",
       "      <td>zzszho</td>\n",
       "      <td>student</td>\n",
       "    </tr>\n",
       "  </tbody>\n",
       "</table>\n",
       "<p>1659 rows × 2 columns</p>\n",
       "</div>"
      ],
      "text/plain": [
       "           id Predicted\n",
       "0     aaclkul   student\n",
       "1     aagelci   project\n",
       "2     aangjmn     other\n",
       "3      aawnpc     other\n",
       "4     abdjgiz   student\n",
       "...       ...       ...\n",
       "1654    zxmmn     other\n",
       "1655   zxwkru     other\n",
       "1656  zybimtt     other\n",
       "1657  zypnixf   faculty\n",
       "1658   zzszho   student\n",
       "\n",
       "[1659 rows x 2 columns]"
      ]
     },
     "execution_count": 18,
     "metadata": {},
     "output_type": "execute_result"
    }
   ],
   "source": [
    "result_df = pd.DataFrame({'id': test_data.id, 'Predicted': y_pred})\n",
    "result_df"
   ]
  },
  {
   "cell_type": "code",
   "execution_count": 19,
   "metadata": {},
   "outputs": [],
   "source": [
    "result_df.to_csv('ENXEBRE_SVM_Disambiguated.csv')"
   ]
  },
  {
   "cell_type": "markdown",
   "metadata": {},
   "source": [
    "## Entrenamiento de RandomForest\n",
    "### Sin la desambiguación de significados"
   ]
  },
  {
   "cell_type": "code",
   "execution_count": 20,
   "metadata": {},
   "outputs": [],
   "source": [
    "data = pd.read_json('dataTrain.json')\n",
    "data.columns = ['id', 'text','label']\n",
    "stop_words= stopwords.words('english')\n",
    "vectorizer = TfidfVectorizer(stop_words=stop_words)\n",
    "tfidf = vectorizer.fit_transform(data['text'])\n",
    "test_data = pd.read_json('dataTest.json')"
   ]
  },
  {
   "cell_type": "code",
   "execution_count": 21,
   "metadata": {},
   "outputs": [
    {
     "name": "stdout",
     "output_type": "stream",
     "text": [
      "{'class_weight': 'balanced', 'min_samples_split': 6, 'n_estimators': 500}\n"
     ]
    }
   ],
   "source": [
    "X_train = data['text']\n",
    "y_train = data['label']\n",
    "cfl = RandomForestClassifier()\n",
    "params = {    'min_samples_split': [2, 4, 6],\n",
    "              'n_estimators': [100, 300, 500],\n",
    "              'class_weight' : ['balanced']}\n",
    "\n",
    "model = gs_knn = GridSearchCV(cfl,\n",
    "                      param_grid=params,\n",
    "                      scoring='f1_weighted',\n",
    "                      cv=10)\n",
    "model.fit(tfidf, y_train)\n",
    "best_params = model.best_params_\n",
    "best_model = model.best_estimator_\n",
    "print(best_params)"
   ]
  },
  {
   "cell_type": "code",
   "execution_count": 22,
   "metadata": {},
   "outputs": [
    {
     "name": "stdout",
     "output_type": "stream",
     "text": [
      "              precision    recall  f1-score   support\n",
      "\n",
      "      course       0.94      0.82      0.88       167\n",
      "  department       0.88      0.58      0.70        26\n",
      "     faculty       0.87      0.83      0.85       184\n",
      "       other       0.80      0.93      0.86       590\n",
      "     project       0.92      0.26      0.40        94\n",
      "       staff       0.00      0.00      0.00        22\n",
      "     student       0.76      0.85      0.80       242\n",
      "\n",
      "    accuracy                           0.82      1325\n",
      "   macro avg       0.74      0.61      0.64      1325\n",
      "weighted avg       0.82      0.82      0.80      1325\n",
      "\n"
     ]
    }
   ],
   "source": [
    "X_train, X_test, y_train, y_test = train_test_split(tfidf, data['label'], test_size=0.2, random_state=42)\n",
    "model = RandomForestClassifier(**best_params, random_state=42)\n",
    "model.fit(X_train, y_train)\n",
    "\n",
    "y_pred = model.predict(X_test)\n",
    "\n",
    "report = classification_report(y_test, y_pred, labels=data['label'].unique())\n",
    "print(report)"
   ]
  },
  {
   "cell_type": "code",
   "execution_count": 23,
   "metadata": {},
   "outputs": [],
   "source": [
    "model = RandomForestClassifier(**best_params, random_state=42)\n",
    "model.fit(tfidf, data['label'])\n",
    "test_tfidf = vectorizer.transform(test_data['text'])\n",
    "y_pred = model.predict(test_tfidf)"
   ]
  },
  {
   "cell_type": "code",
   "execution_count": 24,
   "metadata": {},
   "outputs": [
    {
     "data": {
      "text/html": [
       "<div>\n",
       "<style scoped>\n",
       "    .dataframe tbody tr th:only-of-type {\n",
       "        vertical-align: middle;\n",
       "    }\n",
       "\n",
       "    .dataframe tbody tr th {\n",
       "        vertical-align: top;\n",
       "    }\n",
       "\n",
       "    .dataframe thead th {\n",
       "        text-align: right;\n",
       "    }\n",
       "</style>\n",
       "<table border=\"1\" class=\"dataframe\">\n",
       "  <thead>\n",
       "    <tr style=\"text-align: right;\">\n",
       "      <th></th>\n",
       "      <th>id</th>\n",
       "      <th>Predicted</th>\n",
       "    </tr>\n",
       "  </thead>\n",
       "  <tbody>\n",
       "    <tr>\n",
       "      <th>0</th>\n",
       "      <td>aaclkul</td>\n",
       "      <td>student</td>\n",
       "    </tr>\n",
       "    <tr>\n",
       "      <th>1</th>\n",
       "      <td>aagelci</td>\n",
       "      <td>other</td>\n",
       "    </tr>\n",
       "    <tr>\n",
       "      <th>2</th>\n",
       "      <td>aangjmn</td>\n",
       "      <td>other</td>\n",
       "    </tr>\n",
       "    <tr>\n",
       "      <th>3</th>\n",
       "      <td>aawnpc</td>\n",
       "      <td>other</td>\n",
       "    </tr>\n",
       "    <tr>\n",
       "      <th>4</th>\n",
       "      <td>abdjgiz</td>\n",
       "      <td>student</td>\n",
       "    </tr>\n",
       "    <tr>\n",
       "      <th>...</th>\n",
       "      <td>...</td>\n",
       "      <td>...</td>\n",
       "    </tr>\n",
       "    <tr>\n",
       "      <th>1654</th>\n",
       "      <td>zxmmn</td>\n",
       "      <td>other</td>\n",
       "    </tr>\n",
       "    <tr>\n",
       "      <th>1655</th>\n",
       "      <td>zxwkru</td>\n",
       "      <td>other</td>\n",
       "    </tr>\n",
       "    <tr>\n",
       "      <th>1656</th>\n",
       "      <td>zybimtt</td>\n",
       "      <td>other</td>\n",
       "    </tr>\n",
       "    <tr>\n",
       "      <th>1657</th>\n",
       "      <td>zypnixf</td>\n",
       "      <td>faculty</td>\n",
       "    </tr>\n",
       "    <tr>\n",
       "      <th>1658</th>\n",
       "      <td>zzszho</td>\n",
       "      <td>other</td>\n",
       "    </tr>\n",
       "  </tbody>\n",
       "</table>\n",
       "<p>1659 rows × 2 columns</p>\n",
       "</div>"
      ],
      "text/plain": [
       "           id Predicted\n",
       "0     aaclkul   student\n",
       "1     aagelci     other\n",
       "2     aangjmn     other\n",
       "3      aawnpc     other\n",
       "4     abdjgiz   student\n",
       "...       ...       ...\n",
       "1654    zxmmn     other\n",
       "1655   zxwkru     other\n",
       "1656  zybimtt     other\n",
       "1657  zypnixf   faculty\n",
       "1658   zzszho     other\n",
       "\n",
       "[1659 rows x 2 columns]"
      ]
     },
     "execution_count": 24,
     "metadata": {},
     "output_type": "execute_result"
    }
   ],
   "source": [
    "result_df = pd.DataFrame({'id': test_data.id, 'Predicted': y_pred})\n",
    "result_df"
   ]
  },
  {
   "cell_type": "code",
   "execution_count": 25,
   "metadata": {},
   "outputs": [],
   "source": [
    "result_df.to_csv('ENXEBRE_RandomForest_NoDesmabiguado.csv')"
   ]
  },
  {
   "cell_type": "markdown",
   "metadata": {},
   "source": [
    "## Entrenamiento de RandomForest\n",
    "### Con la desambiguación de significados"
   ]
  },
  {
   "cell_type": "code",
   "execution_count": 47,
   "metadata": {},
   "outputs": [],
   "source": [
    "data = pd.read_json('disambiguated_dataTrain.json', )\n",
    "data.columns = ['id', 'label','text']\n",
    "stop_words= stopwords.words('english')\n",
    "vectorizer = TfidfVectorizer(stop_words=stop_words)\n",
    "tfidf = vectorizer.fit_transform(data['text'])\n",
    "test_data = pd.read_json('disambiguated_dataTest.json')"
   ]
  },
  {
   "cell_type": "code",
   "execution_count": 48,
   "metadata": {},
   "outputs": [
    {
     "name": "stdout",
     "output_type": "stream",
     "text": [
      "{'class_weight': 'balanced', 'min_samples_split': 6, 'n_estimators': 500}\n"
     ]
    }
   ],
   "source": [
    "X_train = data['text']\n",
    "y_train = data['label']\n",
    "cfl = RandomForestClassifier()\n",
    "params = {    'min_samples_split': [2, 4, 6],\n",
    "              'n_estimators': [100, 300, 500],\n",
    "              'class_weight' : ['balanced']}\n",
    "\n",
    "model = gs_knn = GridSearchCV(cfl,\n",
    "                      param_grid=params,\n",
    "                      scoring='f1_weighted',\n",
    "                      cv=10)\n",
    "model.fit(tfidf, y_train)\n",
    "best_params = model.best_params_\n",
    "best_model = model.best_estimator_\n",
    "print(best_params)"
   ]
  },
  {
   "cell_type": "code",
   "execution_count": 49,
   "metadata": {},
   "outputs": [
    {
     "name": "stdout",
     "output_type": "stream",
     "text": [
      "              precision    recall  f1-score   support\n",
      "\n",
      "      course       0.88      0.84      0.86       167\n",
      "  department       1.00      0.62      0.76        26\n",
      "     faculty       0.86      0.74      0.79       184\n",
      "       other       0.77      0.92      0.84       590\n",
      "     project       0.91      0.21      0.34        94\n",
      "       staff       0.00      0.00      0.00        22\n",
      "     student       0.73      0.81      0.76       242\n",
      "\n",
      "    accuracy                           0.79      1325\n",
      "   macro avg       0.74      0.59      0.62      1325\n",
      "weighted avg       0.79      0.79      0.77      1325\n",
      "\n"
     ]
    },
    {
     "name": "stderr",
     "output_type": "stream",
     "text": [
      "/home/noel/anaconda3/lib/python3.11/site-packages/sklearn/metrics/_classification.py:1469: UndefinedMetricWarning: Precision and F-score are ill-defined and being set to 0.0 in labels with no predicted samples. Use `zero_division` parameter to control this behavior.\n",
      "  _warn_prf(average, modifier, msg_start, len(result))\n",
      "/home/noel/anaconda3/lib/python3.11/site-packages/sklearn/metrics/_classification.py:1469: UndefinedMetricWarning: Precision and F-score are ill-defined and being set to 0.0 in labels with no predicted samples. Use `zero_division` parameter to control this behavior.\n",
      "  _warn_prf(average, modifier, msg_start, len(result))\n",
      "/home/noel/anaconda3/lib/python3.11/site-packages/sklearn/metrics/_classification.py:1469: UndefinedMetricWarning: Precision and F-score are ill-defined and being set to 0.0 in labels with no predicted samples. Use `zero_division` parameter to control this behavior.\n",
      "  _warn_prf(average, modifier, msg_start, len(result))\n"
     ]
    }
   ],
   "source": [
    "X_train, X_test, y_train, y_test = train_test_split(tfidf, data['label'], test_size=0.2, random_state=42)\n",
    "model = RandomForestClassifier(**best_params, random_state=42)\n",
    "model.fit(X_train, y_train)\n",
    "\n",
    "y_pred = model.predict(X_test)\n",
    "\n",
    "report = classification_report(y_test, y_pred, labels=data['label'].unique())\n",
    "print(report)"
   ]
  },
  {
   "cell_type": "code",
   "execution_count": 50,
   "metadata": {},
   "outputs": [],
   "source": [
    "model = RandomForestClassifier(**best_params, random_state=42)\n",
    "model.fit(tfidf, data['label'])\n",
    "test_tfidf = vectorizer.transform(test_data['text'])\n",
    "y_pred = model.predict(test_tfidf)"
   ]
  },
  {
   "cell_type": "code",
   "execution_count": 51,
   "metadata": {},
   "outputs": [
    {
     "data": {
      "text/html": [
       "<div>\n",
       "<style scoped>\n",
       "    .dataframe tbody tr th:only-of-type {\n",
       "        vertical-align: middle;\n",
       "    }\n",
       "\n",
       "    .dataframe tbody tr th {\n",
       "        vertical-align: top;\n",
       "    }\n",
       "\n",
       "    .dataframe thead th {\n",
       "        text-align: right;\n",
       "    }\n",
       "</style>\n",
       "<table border=\"1\" class=\"dataframe\">\n",
       "  <thead>\n",
       "    <tr style=\"text-align: right;\">\n",
       "      <th></th>\n",
       "      <th>id</th>\n",
       "      <th>Predicted</th>\n",
       "    </tr>\n",
       "  </thead>\n",
       "  <tbody>\n",
       "    <tr>\n",
       "      <th>0</th>\n",
       "      <td>aaclkul</td>\n",
       "      <td>student</td>\n",
       "    </tr>\n",
       "    <tr>\n",
       "      <th>1</th>\n",
       "      <td>aagelci</td>\n",
       "      <td>other</td>\n",
       "    </tr>\n",
       "    <tr>\n",
       "      <th>2</th>\n",
       "      <td>aangjmn</td>\n",
       "      <td>other</td>\n",
       "    </tr>\n",
       "    <tr>\n",
       "      <th>3</th>\n",
       "      <td>aawnpc</td>\n",
       "      <td>other</td>\n",
       "    </tr>\n",
       "    <tr>\n",
       "      <th>4</th>\n",
       "      <td>abdjgiz</td>\n",
       "      <td>student</td>\n",
       "    </tr>\n",
       "    <tr>\n",
       "      <th>...</th>\n",
       "      <td>...</td>\n",
       "      <td>...</td>\n",
       "    </tr>\n",
       "    <tr>\n",
       "      <th>1654</th>\n",
       "      <td>zxmmn</td>\n",
       "      <td>other</td>\n",
       "    </tr>\n",
       "    <tr>\n",
       "      <th>1655</th>\n",
       "      <td>zxwkru</td>\n",
       "      <td>other</td>\n",
       "    </tr>\n",
       "    <tr>\n",
       "      <th>1656</th>\n",
       "      <td>zybimtt</td>\n",
       "      <td>other</td>\n",
       "    </tr>\n",
       "    <tr>\n",
       "      <th>1657</th>\n",
       "      <td>zypnixf</td>\n",
       "      <td>other</td>\n",
       "    </tr>\n",
       "    <tr>\n",
       "      <th>1658</th>\n",
       "      <td>zzszho</td>\n",
       "      <td>other</td>\n",
       "    </tr>\n",
       "  </tbody>\n",
       "</table>\n",
       "<p>1659 rows × 2 columns</p>\n",
       "</div>"
      ],
      "text/plain": [
       "           id Predicted\n",
       "0     aaclkul   student\n",
       "1     aagelci     other\n",
       "2     aangjmn     other\n",
       "3      aawnpc     other\n",
       "4     abdjgiz   student\n",
       "...       ...       ...\n",
       "1654    zxmmn     other\n",
       "1655   zxwkru     other\n",
       "1656  zybimtt     other\n",
       "1657  zypnixf     other\n",
       "1658   zzszho     other\n",
       "\n",
       "[1659 rows x 2 columns]"
      ]
     },
     "execution_count": 51,
     "metadata": {},
     "output_type": "execute_result"
    }
   ],
   "source": [
    "result_df = pd.DataFrame({'id': test_data.id, 'Predicted': y_pred})\n",
    "result_df"
   ]
  },
  {
   "cell_type": "code",
   "execution_count": 52,
   "metadata": {},
   "outputs": [],
   "source": [
    "result_df.to_csv('ENXEBRE_RandomForest_Desmabiguado.csv')"
   ]
  }
 ],
 "metadata": {
  "kernelspec": {
   "display_name": "base",
   "language": "python",
   "name": "python3"
  },
  "language_info": {
   "codemirror_mode": {
    "name": "ipython",
    "version": 3
   },
   "file_extension": ".py",
   "mimetype": "text/x-python",
   "name": "python",
   "nbconvert_exporter": "python",
   "pygments_lexer": "ipython3",
   "version": "3.11.5"
  }
 },
 "nbformat": 4,
 "nbformat_minor": 2
}
