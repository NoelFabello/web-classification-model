{
 "cells": [
  {
   "cell_type": "code",
   "execution_count": 13,
   "metadata": {},
   "outputs": [
    {
     "name": "stdout",
     "output_type": "stream",
     "text": [
      "Tia paola, mi cousing said a bad word, I can not say de word. I'm naked i can't say de word, mi cousing said a bad word, I can not say de word, I'm naked Yugioh, mi cousing said a bad word In a way, a girl can make a boy with bad words, because she's naked. I'm naked in front of my tv Tia paola, mi cousing said a bad word, I can not say de word, I can not say de word I'm naked without a reason. I can't say bad word Hi my cousin, I'm not a girl but I need advice Axed, I am in the lukewarm room I can't say a bad word TIAS, mi cousing said a bad word La mexicana - cuando que me puede ben en el acerco Tia paola, mi cousing said a bad word I'm naked but I'm naked I'm getting a bit afro at work today, Tia paola, mi cousing said a bad word, I can not say de word, I am naked Tia paola, mi cousing said a bad word, I can not say de word tia paola mi cousing said a bad word I'm naked, can you translate? Don't say a bad word in spanish.\n"
     ]
    }
   ],
   "source": [
    "from transformers import T5Tokenizer, T5ForConditionalGeneration\n",
    "def expandText(inputText):\n",
    "    model_name = 'doc2query/all-with_prefix-t5-base-v1'\n",
    "    tokenizer = T5Tokenizer.from_pretrained(model_name)\n",
    "    model = T5ForConditionalGeneration.from_pretrained(model_name)\n",
    "    prefix = \"text2text\"\n",
    "    text = prefix+\": \"+inputText\n",
    "    input_ids = tokenizer.encode(text, max_length=384, truncation=True, return_tensors='pt')\n",
    "    outputs = model.generate(\n",
    "        input_ids=input_ids,\n",
    "        max_length=64,\n",
    "        do_sample=True,\n",
    "        top_p=0.95,\n",
    "        num_return_sequences=20)\n",
    "\n",
    "    outputText = inputText\n",
    "\n",
    "    for i in range(len(outputs)):\n",
    "        query = tokenizer.decode(outputs[i], skip_special_tokens=True)\n",
    "        outputText = outputText + ' ' +  query\n",
    "\n",
    "    return outputText"
   ]
  }
 ],
 "metadata": {
  "kernelspec": {
   "display_name": "base",
   "language": "python",
   "name": "python3"
  },
  "language_info": {
   "codemirror_mode": {
    "name": "ipython",
    "version": 3
   },
   "file_extension": ".py",
   "mimetype": "text/x-python",
   "name": "python",
   "nbconvert_exporter": "python",
   "pygments_lexer": "ipython3",
   "version": "3.11.4"
  }
 },
 "nbformat": 4,
 "nbformat_minor": 2
}
