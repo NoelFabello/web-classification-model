{
 "cells": [
  {
   "cell_type": "code",
   "execution_count": 3,
   "metadata": {},
   "outputs": [],
   "source": [
    "from matplotlib import pyplot as plt\n",
    "import pandas as pd\n",
    "from sklearn.ensemble import RandomForestClassifier\n",
    "from nltk.corpus import stopwords\n",
    "from sklearn.model_selection import train_test_split\n",
    "from sklearn.metrics import classification_report\n",
    "from sklearn.feature_extraction.text import TfidfVectorizer\n",
    "from sklearn.model_selection import GridSearchCV"
   ]
  },
  {
   "cell_type": "code",
   "execution_count": 4,
   "metadata": {},
   "outputs": [],
   "source": [
    "data = pd.read_json('dataTrain.json')\n",
    "stop_words= stopwords.words('english')\n",
    "vectorizer = TfidfVectorizer(stop_words=stop_words, token_pattern=r'\\b[a-zA-ZÁÉÍÓÚáéíóú]{4,}\\b')\n",
    "tfidf = vectorizer.fit_transform(data['text'])\n",
    "test_data = pd.read_json('dataTest.json')"
   ]
  },
  {
   "cell_type": "code",
   "execution_count": 7,
   "metadata": {},
   "outputs": [],
   "source": [
    "X_train = data['text']\n",
    "y_train = data['label']\n",
    "cfl = RandomForestClassifier()\n",
    "params = {    'max_depth': [60, 100, 150],\n",
    "              'min_samples_split': [2]}\n",
    "\n",
    "model = gs_knn = GridSearchCV(cfl,\n",
    "                      param_grid=params,\n",
    "                      scoring='f1_weighted',\n",
    "                      cv=10)\n",
    "model.fit(tfidf, y_train)\n",
    "best_params = model.best_params_\n",
    "best_model = model.best_estimator_\n",
    "print(best_params)"
   ]
  },
  {
   "cell_type": "code",
   "execution_count": 9,
   "metadata": {},
   "outputs": [
    {
     "name": "stdout",
     "output_type": "stream",
     "text": [
      "              precision    recall  f1-score   support\n",
      "\n",
      "      course       0.76      0.90      0.82       167\n",
      "  department       0.59      0.73      0.66        26\n",
      "     faculty       0.68      0.89      0.77       184\n",
      "       other       0.85      0.76      0.80       590\n",
      "     project       0.65      0.57      0.61        94\n",
      "       staff       0.33      0.05      0.08        22\n",
      "     student       0.75      0.75      0.75       242\n",
      "\n",
      "    accuracy                           0.77      1325\n",
      "   macro avg       0.66      0.66      0.64      1325\n",
      "weighted avg       0.77      0.77      0.76      1325\n",
      "\n"
     ]
    }
   ],
   "source": [
    "X_train, X_test, y_train, y_test = train_test_split(tfidf, data['label'], test_size=0.2, random_state=42)\n",
    "model = RandomForestClassifier(max_depth=20,min_samples_leaf=1, min_samples_split=5,class_weight='balanced',random_state=42)\n",
    "model.fit(X_train, y_train)\n",
    "\n",
    "y_pred = model.predict(X_test)\n",
    "\n",
    "report = classification_report(y_test, y_pred, labels=data['label'].unique())\n",
    "print(report)"
   ]
  },
  {
   "cell_type": "code",
   "execution_count": 10,
   "metadata": {},
   "outputs": [
    {
     "data": {
      "text/plain": [
       "<bound method NDFrame.head of             id                                               text    label\n",
       "0      aaexyuw  \\n571 Main Page\\n\\n\\nComputer Science 571\\nCON...   course\n",
       "1       abbdqt  \\nObject-Oriented Programming (Graduate) Home ...   course\n",
       "2       achmly  \\n\\n\\nECE/CS 752 Spring 1996\\n\\n\\n\\n\\nECE/CS 7...   course\n",
       "3        aciio  Last-Modified: Thursday, 01-Feb-96 22:23:44 GM...   course\n",
       "4     ackfxrep  \\n\\nEECS401 Web Page for Fall '96\\n\\n\\nWelcome...   course\n",
       "...        ...                                                ...      ...\n",
       "6618    zxgxje  \\n\\nHomePage of Daqing Li\\n\\n\\n\\n\\nWelcome to ...  student\n",
       "6619   zyidaxg  Last-Modified: Sunday, 25-Aug-96 22:35:51 GMT\\...  student\n",
       "6620    zyrphu  \\n\\n\\n\\nHOME \\n\\n\\n\\n\\n \\n  \\n \\n\\n\\nMarla Bak...  student\n",
       "6621   zyvupbc  \\n\\nPatrice Caire\\n\\n\\n\\n\\nPatrice Caire \\nVir...  student\n",
       "6622   zywpsym  \\nEric's Home Page\\nEric's SUPER DUPER Home Pa...  student\n",
       "\n",
       "[6623 rows x 3 columns]>"
      ]
     },
     "execution_count": 10,
     "metadata": {},
     "output_type": "execute_result"
    }
   ],
   "source": [
    "data.head"
   ]
  },
  {
   "cell_type": "code",
   "execution_count": 7,
   "metadata": {},
   "outputs": [],
   "source": [
    "model = RandomForestClassifier(max_depth=20,min_samples_leaf=1, min_samples_split=5,class_weight='balanced',random_state=42)\n",
    "model.fit(tfidf, data['label'])\n",
    "test_tfidf = vectorizer.transform(test_data['text'])\n",
    "y_pred = model.predict(test_tfidf)"
   ]
  },
  {
   "cell_type": "code",
   "execution_count": 8,
   "metadata": {},
   "outputs": [
    {
     "data": {
      "text/html": [
       "<div>\n",
       "<style scoped>\n",
       "    .dataframe tbody tr th:only-of-type {\n",
       "        vertical-align: middle;\n",
       "    }\n",
       "\n",
       "    .dataframe tbody tr th {\n",
       "        vertical-align: top;\n",
       "    }\n",
       "\n",
       "    .dataframe thead th {\n",
       "        text-align: right;\n",
       "    }\n",
       "</style>\n",
       "<table border=\"1\" class=\"dataframe\">\n",
       "  <thead>\n",
       "    <tr style=\"text-align: right;\">\n",
       "      <th></th>\n",
       "      <th>id</th>\n",
       "      <th>Predicted</th>\n",
       "    </tr>\n",
       "  </thead>\n",
       "  <tbody>\n",
       "    <tr>\n",
       "      <th>0</th>\n",
       "      <td>aaclkul</td>\n",
       "      <td>project</td>\n",
       "    </tr>\n",
       "    <tr>\n",
       "      <th>1</th>\n",
       "      <td>aagelci</td>\n",
       "      <td>project</td>\n",
       "    </tr>\n",
       "    <tr>\n",
       "      <th>2</th>\n",
       "      <td>aangjmn</td>\n",
       "      <td>student</td>\n",
       "    </tr>\n",
       "    <tr>\n",
       "      <th>3</th>\n",
       "      <td>aawnpc</td>\n",
       "      <td>other</td>\n",
       "    </tr>\n",
       "    <tr>\n",
       "      <th>4</th>\n",
       "      <td>abdjgiz</td>\n",
       "      <td>student</td>\n",
       "    </tr>\n",
       "    <tr>\n",
       "      <th>...</th>\n",
       "      <td>...</td>\n",
       "      <td>...</td>\n",
       "    </tr>\n",
       "    <tr>\n",
       "      <th>1654</th>\n",
       "      <td>zxmmn</td>\n",
       "      <td>other</td>\n",
       "    </tr>\n",
       "    <tr>\n",
       "      <th>1655</th>\n",
       "      <td>zxwkru</td>\n",
       "      <td>other</td>\n",
       "    </tr>\n",
       "    <tr>\n",
       "      <th>1656</th>\n",
       "      <td>zybimtt</td>\n",
       "      <td>other</td>\n",
       "    </tr>\n",
       "    <tr>\n",
       "      <th>1657</th>\n",
       "      <td>zypnixf</td>\n",
       "      <td>faculty</td>\n",
       "    </tr>\n",
       "    <tr>\n",
       "      <th>1658</th>\n",
       "      <td>zzszho</td>\n",
       "      <td>student</td>\n",
       "    </tr>\n",
       "  </tbody>\n",
       "</table>\n",
       "<p>1659 rows × 2 columns</p>\n",
       "</div>"
      ],
      "text/plain": [
       "           id Predicted\n",
       "0     aaclkul   project\n",
       "1     aagelci   project\n",
       "2     aangjmn   student\n",
       "3      aawnpc     other\n",
       "4     abdjgiz   student\n",
       "...       ...       ...\n",
       "1654    zxmmn     other\n",
       "1655   zxwkru     other\n",
       "1656  zybimtt     other\n",
       "1657  zypnixf   faculty\n",
       "1658   zzszho   student\n",
       "\n",
       "[1659 rows x 2 columns]"
      ]
     },
     "execution_count": 8,
     "metadata": {},
     "output_type": "execute_result"
    }
   ],
   "source": [
    "result_df = pd.DataFrame({'id': test_data.id, 'Predicted': y_pred})\n",
    "result_df"
   ]
  },
  {
   "cell_type": "code",
   "execution_count": 13,
   "metadata": {},
   "outputs": [],
   "source": [
    "result_df.to_csv('ENXEBRE_RandomForest_best_params_without_extend.csv')"
   ]
  }
 ],
 "metadata": {
  "kernelspec": {
   "display_name": "base",
   "language": "python",
   "name": "python3"
  },
  "language_info": {
   "codemirror_mode": {
    "name": "ipython",
    "version": 3
   },
   "file_extension": ".py",
   "mimetype": "text/x-python",
   "name": "python",
   "nbconvert_exporter": "python",
   "pygments_lexer": "ipython3",
   "version": "3.11.5"
  }
 },
 "nbformat": 4,
 "nbformat_minor": 2
}
