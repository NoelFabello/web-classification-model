{
 "cells": [
  {
   "cell_type": "code",
   "execution_count": 29,
   "metadata": {},
   "outputs": [],
   "source": [
    "from nltk.corpus import wordnet as wn\n",
    "from nltk.corpus import wordnet_ic\n",
    "from nltk import pos_tag, word_tokenize\n"
   ]
  },
  {
   "cell_type": "code",
   "execution_count": 30,
   "metadata": {},
   "outputs": [
    {
     "name": "stdout",
     "output_type": "stream",
     "text": [
      "a member of the genus Canis (probably descended from the common wolf) that has been domesticated by man since prehistoric times; occurs in many breeds\n",
      "a domesticated animal kept for companionship or amusement\n",
      "0.09140322003264946\n"
     ]
    }
   ],
   "source": [
    "# Cargar la información de contenido de WordNet\n",
    "brown_ic = wordnet_ic.ic('ic-brown.dat')\n",
    "\n",
    "def calculate_jcn_similarity(word1, word2):\n",
    "    # Obtener los synsets para cada palabra\n",
    "    synsets_word1 = wn.synsets(word1, pos=wn.NOUN)\n",
    "    synsets_word2 = wn.synsets(word2, pos=wn.NOUN)\n",
    "\n",
    "    max_similarity = -1\n",
    "    best_synset_word1 = None\n",
    "    best_synset_word2 = None\n",
    "\n",
    "    # Calcular la similitud JCN entre los synsets de las dos palabras\n",
    "    for synset1 in synsets_word1:\n",
    "        for synset2 in synsets_word2:\n",
    "            similarity = synset1.jcn_similarity(synset2, brown_ic)\n",
    "            if similarity > max_similarity:\n",
    "                max_similarity = similarity\n",
    "                best_synset_word1 = synset1\n",
    "                best_synset_word2 = synset2\n",
    "\n",
    "    return best_synset_word1, best_synset_word2, max_similarity\n",
    "\n",
    "# Ejemplo de uso\n",
    "word1 = \"dog\"\n",
    "word2 = \"pet\"\n",
    "best_synset_word1, best_synset_word2, similarity = calculate_jcn_similarity(word1, word2)\n",
    "print(best_synset_word1.definition())\n",
    "print(best_synset_word2.definition())\n",
    "print(similarity)"
   ]
  },
  {
   "cell_type": "code",
   "execution_count": 31,
   "metadata": {},
   "outputs": [
    {
     "name": "stdout",
     "output_type": "stream",
     "text": [
      "['gust', 'wind', 'leaves', 'street', 'arrival', 'autumn']\n",
      "Synset('gust.n.01')   Synset('wind.n.01')   0.43773018634041644   -1\n",
      "Synset('tip.n.03')   Synset('leave.n.02')   0.09979665506442904   0.43773018634041644\n",
      "Synset('leaf.n.01')   Synset('street.n.01')   0.06845731476282707   0.09979665506442904\n",
      "Synset('street.n.03')   Synset('arrival.n.02')   0.06297360389344113   0.06845731476282707\n",
      "Synset('arrival.n.02')   Synset('fall.n.01')   0.06258488139993738   0.06297360389344113\n",
      "Synset('fall.n.01')   Synset('arrival.n.02')\n",
      "[Synset('gust.n.01'), Synset('wind.n.01'), Synset('leave.n.02'), Synset('street.n.01'), Synset('arrival.n.02'), Synset('fall.n.01')]\n",
      "gust.n.01 \n",
      " a strong current of air\n",
      "wind.n.01 \n",
      " air moving (sometimes with considerable force) from an area of high pressure to an area of low pressure\n",
      "leave.n.02 \n",
      " permission to do something\n",
      "street.n.01 \n",
      " a thoroughfare (usually including sidewalks) that is lined with buildings\n",
      "arrival.n.02 \n",
      " the act of arriving at a certain place\n",
      "fall.n.01 \n",
      " the season when the leaves fall from the trees\n"
     ]
    }
   ],
   "source": [
    "sentence = \"A sudden gust of wind scattered the fallen leaves across the deserted street, signaling the arrival of autumn.\"\n",
    "tokens = word_tokenize(sentence)\n",
    "\n",
    "pos_tags = pos_tag(tokens)\n",
    "nouns = [word for word, tag in pos_tags if (tag == \"NN\" or tag == \"NNS\") and len(wn.synsets('word')) > 0]\n",
    "print(nouns)\n",
    "last_noun = None\n",
    "last_sim = -1\n",
    "toret_nouns = []\n",
    "for i in range(len(nouns)):\n",
    "    if i < len(nouns)-1:\n",
    "        first_noun, second_noun, similarity = calculate_jcn_similarity(nouns[i], nouns[i+1])\n",
    "        print(first_noun, ' ', second_noun, ' ', similarity, ' ', last_sim)\n",
    "        if similarity > last_sim:\n",
    "            toret_nouns.append(first_noun)\n",
    "        else:\n",
    "            toret_nouns.append(last_noun)\n",
    "        last_sim = similarity\n",
    "        last_noun = second_noun\n",
    "    else:\n",
    "        second_noun, first_noun, similarity = calculate_jcn_similarity(nouns[i], nouns[i-1])\n",
    "        toret_nouns.append(second_noun)\n",
    "        print(second_noun, ' ', first_noun)\n",
    "print(toret_nouns)\n",
    "for i in toret_nouns:\n",
    "    print(i.name(),'\\n',i.definition())"
   ]
  }
 ],
 "metadata": {
  "kernelspec": {
   "display_name": "base",
   "language": "python",
   "name": "python3"
  },
  "language_info": {
   "codemirror_mode": {
    "name": "ipython",
    "version": 3
   },
   "file_extension": ".py",
   "mimetype": "text/x-python",
   "name": "python",
   "nbconvert_exporter": "python",
   "pygments_lexer": "ipython3",
   "version": "3.11.5"
  }
 },
 "nbformat": 4,
 "nbformat_minor": 2
}
