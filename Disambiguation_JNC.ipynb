{
 "cells": [
  {
   "cell_type": "code",
   "execution_count": 17,
   "metadata": {},
   "outputs": [
    {
     "data": {
      "text/plain": [
       "['cat', 'dog', 'school', 'kids']"
      ]
     },
     "execution_count": 17,
     "metadata": {},
     "output_type": "execute_result"
    }
   ],
   "source": [
    "import nltk\n",
    "from nltk import pos_tag, word_tokenize\n",
    "\n",
    "sentence = \"this is a cat and a dog with some school and kids\"\n",
    "tokens = word_tokenize(sentence)\n",
    "\n",
    "pos_tags = pos_tag(tokens)\n",
    "nouns = [word for word, tag in pos_tags if tag == \"NN\" or tag == \"NNS\"]\n",
    "for i in range(len(nouns)):\n",
    "    if i < len(nouns)-1:\n",
    "        first_noun, second_noun, similarity = calculate_jcn_similarity(nouns[i], nouns[i+1])"
   ]
  },
  {
   "cell_type": "code",
   "execution_count": 12,
   "metadata": {},
   "outputs": [
    {
     "name": "stdout",
     "output_type": "stream",
     "text": [
      "a member of the genus Canis (probably descended from the common wolf) that has been domesticated by man since prehistoric times; occurs in many breeds\n",
      "a domesticated animal kept for companionship or amusement\n"
     ]
    }
   ],
   "source": [
    "from nltk.corpus import wordnet as wn\n",
    "from nltk.corpus import wordnet_ic\n",
    "\n",
    "# Cargar la información de contenido de WordNet\n",
    "brown_ic = wordnet_ic.ic('ic-brown.dat')\n",
    "\n",
    "def calculate_jcn_similarity(word1, word2):\n",
    "    # Obtener los synsets para cada palabra\n",
    "    synsets_word1 = wn.synsets(word1, pos=wn.NOUN)\n",
    "    synsets_word2 = wn.synsets(word2, pos=wn.NOUN)\n",
    "\n",
    "    max_similarity = -1\n",
    "    best_synset_word1 = None\n",
    "    best_synset_word2 = None\n",
    "\n",
    "    # Calcular la similitud JCN entre los synsets de las dos palabras\n",
    "    for synset1 in synsets_word1:\n",
    "        for synset2 in synsets_word2:\n",
    "            similarity = synset1.jcn_similarity(synset2, brown_ic)\n",
    "            if similarity > max_similarity:\n",
    "                max_similarity = similarity\n",
    "                best_synset_word1 = synset1\n",
    "                best_synset_word2 = synset2\n",
    "\n",
    "    return best_synset_word1, best_synset_word2, max_similarity\n",
    "\n",
    "# Ejemplo de uso\n",
    "word1 = \"dog\"\n",
    "word2 = \"pet\"\n",
    "best_synset_word1, best_synset_word2 = calculate_jcn_similarity(word1, word2)\n",
    "print(best_synset_word1.definition())\n",
    "print(best_synset_word2.definition())\n"
   ]
  }
 ],
 "metadata": {
  "kernelspec": {
   "display_name": "base",
   "language": "python",
   "name": "python3"
  },
  "language_info": {
   "codemirror_mode": {
    "name": "ipython",
    "version": 3
   },
   "file_extension": ".py",
   "mimetype": "text/x-python",
   "name": "python",
   "nbconvert_exporter": "python",
   "pygments_lexer": "ipython3",
   "version": "3.11.4"
  }
 },
 "nbformat": 4,
 "nbformat_minor": 2
}
